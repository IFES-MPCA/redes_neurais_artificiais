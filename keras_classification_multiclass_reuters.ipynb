{
  "nbformat": 4,
  "nbformat_minor": 0,
  "metadata": {
    "colab": {
      "provenance": [],
      "collapsed_sections": [
        "Jqz4-tYOVIXm",
        "U8IAmM0EVFXe"
      ],
      "authorship_tag": "ABX9TyNgrDmkAcrEi+K3pvK6Hl/f",
      "include_colab_link": true
    },
    "kernelspec": {
      "name": "python3",
      "display_name": "Python 3"
    },
    "language_info": {
      "name": "python"
    }
  },
  "cells": [
    {
      "cell_type": "markdown",
      "metadata": {
        "id": "view-in-github",
        "colab_type": "text"
      },
      "source": [
        "<a href=\"https://colab.research.google.com/github/IFES-MPCA/redes_neurais_artificiais/blob/main/keras_classification_multiclass_reuters.ipynb\" target=\"_parent\"><img src=\"https://colab.research.google.com/assets/colab-badge.svg\" alt=\"Open In Colab\"/></a>"
      ]
    },
    {
      "cell_type": "markdown",
      "source": [
        "## Definir semente para reproducibilidade"
      ],
      "metadata": {
        "id": "1Teu3KBzmM_p"
      }
    },
    {
      "cell_type": "code",
      "source": [
        "import numpy\n",
        "import tensorflow as tf\n",
        "import random as python_random\n",
        "\n",
        "SEED = 42\n",
        "numpy.random.seed(SEED)\n",
        "python_random.seed(SEED)\n",
        "tf.random.set_seed(SEED)"
      ],
      "metadata": {
        "id": "pSAHMNqQmMiB"
      },
      "execution_count": 1,
      "outputs": []
    },
    {
      "cell_type": "markdown",
      "source": [
        "## Carregamento do dataset"
      ],
      "metadata": {
        "id": "Jqz4-tYOVIXm"
      }
    },
    {
      "cell_type": "code",
      "source": [
        "from tensorflow.keras.datasets import reuters\n",
        "\n",
        "(train_x, train_y), (test_x, test_y) = reuters.load_data(num_words=10000)"
      ],
      "metadata": {
        "id": "m7_sKMTYjEvF"
      },
      "execution_count": 2,
      "outputs": []
    },
    {
      "cell_type": "markdown",
      "source": [
        "## Palavras por índice e vice-versa"
      ],
      "metadata": {
        "id": "U8IAmM0EVFXe"
      }
    },
    {
      "cell_type": "code",
      "source": [
        "index_by_word = reuters.get_word_index()\n",
        "word_by_index = dict([(v, k) for (k, v) in index_by_word.items()])"
      ],
      "metadata": {
        "id": "6g3-eg8gd9_J"
      },
      "execution_count": 3,
      "outputs": []
    },
    {
      "cell_type": "code",
      "source": [
        "from typing import List, Dict\n",
        "\n",
        "def indexes_to_text(word_by_index: Dict[str, int], words_indexes: List[int]) -> str:\n",
        "    text_words = [\n",
        "        word_by_index[word_index] if word_index in word_by_index else \"*\"\n",
        "        for word_index in words_indexes\n",
        "    ]\n",
        "    return \" \".join(text_words)"
      ],
      "metadata": {
        "id": "N1fK69Q8lrlU"
      },
      "execution_count": 4,
      "outputs": []
    },
    {
      "cell_type": "markdown",
      "source": [
        "## Tokenização\n",
        "Etapa para converter uma partição de dados para um array binário, definindo 1 no índice da palavra **(só que usando ferramentas nativas do Keras)**."
      ],
      "metadata": {
        "id": "cbAU1ZNFVrq-"
      }
    },
    {
      "cell_type": "code",
      "source": [
        "from keras.preprocessing.text import Tokenizer\n",
        "\n",
        "NUM_WORDS = 10_000\n",
        "tokenizer = Tokenizer(num_words=NUM_WORDS)\n",
        "\n",
        "# Serão listas de 10k itens. Para cada índice da palavra será definido o valor 1\n",
        "x_train_tokenized = tokenizer.sequences_to_matrix(train_x)\n",
        "x_test_tokenized = tokenizer.sequences_to_matrix(test_x)"
      ],
      "metadata": {
        "id": "1spXNPSVmT0d"
      },
      "execution_count": 5,
      "outputs": []
    },
    {
      "cell_type": "code",
      "source": [
        "from typing import Iterable\n",
        "from numpy import zeros\n",
        "\n",
        "def to_one_hot(target: Iterable[int]) -> Iterable[bool]:\n",
        "    dimension = len(set(target))\n",
        "    results = zeros((len(target), dimension))\n",
        "\n",
        "    for i, label in enumerate(target):\n",
        "        results[i, label] = 1\n",
        "    return results\n",
        "\n",
        "# Converter as saídas para codificação one-hot\n",
        "y_train_one_hot = to_one_hot(train_y)\n",
        "y_test_one_hot = to_one_hot(test_y)"
      ],
      "metadata": {
        "id": "hBMmVFqFmvm7"
      },
      "execution_count": 6,
      "outputs": []
    },
    {
      "cell_type": "code",
      "source": [
        "from tensorflow.keras.utils import to_categorical\n",
        "\n",
        "# Converter a entrada em uma matrix binária, em que o número de linhas é o número de classes\n",
        "y_train_categorical = to_categorical(train_y)\n",
        "y_test_categorical = to_categorical(test_y)"
      ],
      "metadata": {
        "id": "hodxOwxdqrMR"
      },
      "execution_count": 7,
      "outputs": []
    },
    {
      "cell_type": "markdown",
      "source": [
        "## Construção do modelo"
      ],
      "metadata": {
        "id": "rRbBMV7yhcb0"
      }
    },
    {
      "cell_type": "code",
      "source": [
        "from tensorflow import keras\n",
        "from tensorflow.keras import layers\n",
        "\n",
        "model = keras.Sequential([\n",
        "    layers.Dense(64, activation=\"selu\"),\n",
        "    layers.Dense(128, activation=\"selu\"),\n",
        "    layers.Dense(46, activation=\"softmax\")\n",
        "])\n",
        "model.compile(\n",
        "    optimizer=\"adam\", loss=\"categorical_crossentropy\", metrics=[\"accuracy\"]\n",
        ")"
      ],
      "metadata": {
        "id": "6TzJwZJNpM2D"
      },
      "execution_count": 8,
      "outputs": []
    },
    {
      "cell_type": "code",
      "source": [
        "percent_val = 0.1\n",
        "max_index_val = int(percent_val * NUM_WORDS)\n",
        "\n",
        "x_val = x_train_tokenized[:max_index_val]\n",
        "partial_x_train = x_train_tokenized[max_index_val:]\n",
        "\n",
        "y_val = y_train_categorical[:max_index_val]\n",
        "partial_y_train = y_train_categorical[max_index_val:]\n",
        "\n",
        "print(f\"\"\"x train shape: {partial_x_train.shape}\n",
        "x validation shape: {x_val.shape}\n",
        "y train shape: {partial_y_train.shape}\n",
        "y validation shape: {y_val.shape}\"\"\")"
      ],
      "metadata": {
        "id": "QKGPjW9Bqbzt",
        "colab": {
          "base_uri": "https://localhost:8080/"
        },
        "outputId": "e5113e34-b85b-4861-c3b2-57a663d5ee14"
      },
      "execution_count": 9,
      "outputs": [
        {
          "output_type": "stream",
          "name": "stdout",
          "text": [
            "x train shape: (7982, 10000)\n",
            "x validation shape: (1000, 10000)\n",
            "y train shape: (7982, 46)\n",
            "y validation shape: (1000, 46)\n"
          ]
        }
      ]
    },
    {
      "cell_type": "markdown",
      "source": [
        "## Treino e validação"
      ],
      "metadata": {
        "id": "MGWehrO1psvl"
      }
    },
    {
      "cell_type": "code",
      "source": [
        "EPOCHS = 20\n",
        "batch_size = 512\n",
        "callbacks = [tf.keras.callbacks.EarlyStopping(monitor='val_loss', patience=5)]\n",
        "history = model.fit(\n",
        "    partial_x_train, partial_y_train,\n",
        "    epochs=EPOCHS, batch_size=batch_size,\n",
        "    validation_data=(x_val, y_val), callbacks=callbacks\n",
        ")"
      ],
      "metadata": {
        "id": "F8RnRmEoroaG",
        "colab": {
          "base_uri": "https://localhost:8080/"
        },
        "outputId": "f1b39a3c-c8d2-4b39-d2fa-a698449ae1b1"
      },
      "execution_count": 10,
      "outputs": [
        {
          "output_type": "stream",
          "name": "stdout",
          "text": [
            "Epoch 1/20\n",
            "16/16 [==============================] - 5s 197ms/step - loss: 2.4104 - accuracy: 0.5122 - val_loss: 1.5655 - val_accuracy: 0.6380\n",
            "Epoch 2/20\n",
            "16/16 [==============================] - 3s 160ms/step - loss: 1.2320 - accuracy: 0.7271 - val_loss: 1.1560 - val_accuracy: 0.7530\n",
            "Epoch 3/20\n",
            "16/16 [==============================] - 1s 89ms/step - loss: 0.8437 - accuracy: 0.8270 - val_loss: 0.9886 - val_accuracy: 0.7960\n",
            "Epoch 4/20\n",
            "16/16 [==============================] - 1s 55ms/step - loss: 0.5953 - accuracy: 0.8812 - val_loss: 0.8924 - val_accuracy: 0.8190\n",
            "Epoch 5/20\n",
            "16/16 [==============================] - 1s 55ms/step - loss: 0.4216 - accuracy: 0.9154 - val_loss: 0.8435 - val_accuracy: 0.8250\n",
            "Epoch 6/20\n",
            "16/16 [==============================] - 1s 54ms/step - loss: 0.3032 - accuracy: 0.9375 - val_loss: 0.8379 - val_accuracy: 0.8260\n",
            "Epoch 7/20\n",
            "16/16 [==============================] - 1s 53ms/step - loss: 0.2290 - accuracy: 0.9486 - val_loss: 0.8414 - val_accuracy: 0.8210\n",
            "Epoch 8/20\n",
            "16/16 [==============================] - 1s 55ms/step - loss: 0.1830 - accuracy: 0.9555 - val_loss: 0.8572 - val_accuracy: 0.8210\n",
            "Epoch 9/20\n",
            "16/16 [==============================] - 1s 54ms/step - loss: 0.1507 - accuracy: 0.9574 - val_loss: 0.8666 - val_accuracy: 0.8250\n",
            "Epoch 10/20\n",
            "16/16 [==============================] - 1s 52ms/step - loss: 0.1326 - accuracy: 0.9570 - val_loss: 0.8821 - val_accuracy: 0.8180\n",
            "Epoch 11/20\n",
            "16/16 [==============================] - 1s 53ms/step - loss: 0.1160 - accuracy: 0.9574 - val_loss: 0.8912 - val_accuracy: 0.8160\n"
          ]
        }
      ]
    },
    {
      "cell_type": "code",
      "source": [
        "from matplotlib import pyplot\n",
        "\n",
        "history_dict = history.history\n",
        "loss_values = history_dict[\"loss\"]\n",
        "val_loss_values = history_dict[\"val_loss\"]\n",
        "epochs = range(1, len(loss_values) + 1)\n",
        "\n",
        "pyplot.plot(epochs, loss_values, \"bo\", label=\"Trainig loss\")\n",
        "pyplot.plot(epochs, val_loss_values, \"b\", label=\"validation loss\")\n",
        "pyplot.title(\"Training and validation loss\")\n",
        "pyplot.xlabel(\"Epochs\")\n",
        "pyplot.ylabel(\"Loss\")\n",
        "pyplot.legend()\n",
        "pyplot.show()"
      ],
      "metadata": {
        "id": "A6jJXWQ3sxUR",
        "colab": {
          "base_uri": "https://localhost:8080/",
          "height": 472
        },
        "outputId": "2697f0f5-0fa9-4be0-8dce-c61a39d446e3"
      },
      "execution_count": 11,
      "outputs": [
        {
          "output_type": "display_data",
          "data": {
            "text/plain": [
              "<Figure size 640x480 with 1 Axes>"
            ],
            "image/png": "[encoded data removed]"
          },
          "metadata": {}
        }
      ]
    },
    {
      "cell_type": "code",
      "source": [
        "from matplotlib import pyplot\n",
        "\n",
        "history_dict = history.history\n",
        "accuracy_values = history_dict[\"accuracy\"]\n",
        "val_accuracy_values = history_dict[\"val_accuracy\"]\n",
        "epochs = range(1, len(accuracy_values) + 1)\n",
        "\n",
        "pyplot.plot(epochs, accuracy_values, \"bo\", label=\"Trainig acc\")\n",
        "pyplot.plot(epochs, val_accuracy_values, \"b\", label=\"validation acc\")\n",
        "pyplot.title(\"Training and validation accuracy\")\n",
        "pyplot.xlabel(\"Epochs\")\n",
        "pyplot.ylabel(\"Accuracy\")\n",
        "pyplot.legend()\n",
        "pyplot.show()"
      ],
      "metadata": {
        "id": "QpzY8GXzt9OO",
        "colab": {
          "base_uri": "https://localhost:8080/",
          "height": 472
        },
        "outputId": "34dd2b82-86b6-497d-fa7a-77e3c431781d"
      },
      "execution_count": 12,
      "outputs": [
        {
          "output_type": "display_data",
          "data": {
            "text/plain": [
              "<Figure size 640x480 with 1 Axes>"
            ],
            "image/png": "[encoded data removed]"
          },
          "metadata": {}
        }
      ]
    },
    {
      "cell_type": "markdown",
      "source": [
        "## Avaliação (evaluation)"
      ],
      "metadata": {
        "id": "FECt3a65qAZU"
      }
    },
    {
      "cell_type": "code",
      "source": [
        "results = model.evaluate(x_test_tokenized, y_test_categorical)"
      ],
      "metadata": {
        "colab": {
          "base_uri": "https://localhost:8080/"
        },
        "id": "uzT1Mw_1qC2E",
        "outputId": "d2fd44a8-bf8c-4914-a600-69aa3176f19b"
      },
      "execution_count": 13,
      "outputs": [
        {
          "output_type": "stream",
          "name": "stdout",
          "text": [
            "71/71 [==============================] - 0s 4ms/step - loss: 0.9870 - accuracy: 0.8001\n"
          ]
        }
      ]
    }
  ]
}