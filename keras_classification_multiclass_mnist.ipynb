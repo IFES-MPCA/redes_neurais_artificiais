{
  "nbformat": 4,
  "nbformat_minor": 0,
  "metadata": {
    "colab": {
      "provenance": [],
      "authorship_tag": "ABX9TyMYp5TGFls2rwVP9y/cN2cH",
      "include_colab_link": true
    },
    "kernelspec": {
      "name": "python3",
      "display_name": "Python 3"
    },
    "language_info": {
      "name": "python"
    },
    "gpuClass": "standard"
  },
  "cells": [
    {
      "cell_type": "markdown",
      "metadata": {
        "id": "view-in-github",
        "colab_type": "text"
      },
      "source": [
        "<a href=\"https://colab.research.google.com/github/IFES-MPCA/redes_neurais_artificiais/blob/main/keras_classification_multiclass_mnist.ipynb\" target=\"_parent\"><img src=\"https://colab.research.google.com/assets/colab-badge.svg\" alt=\"Open In Colab\"/></a>"
      ]
    },
    {
      "cell_type": "markdown",
      "source": [
        "# Definir semente p/ funções pseudo aleatórias"
      ],
      "metadata": {
        "id": "GzS8yviHpAB_"
      }
    },
    {
      "cell_type": "code",
      "source": [
        "import numpy\n",
        "import tensorflow as tf\n",
        "import random as python_random\n",
        "\n",
        "SEED = 42\n",
        "numpy.random.seed(SEED)\n",
        "python_random.seed(SEED)\n",
        "tf.random.set_seed(SEED)"
      ],
      "metadata": {
        "id": "269-Fuo0o_kA"
      },
      "execution_count": 1,
      "outputs": []
    },
    {
      "cell_type": "markdown",
      "source": [
        "# Carregamento dos dados"
      ],
      "metadata": {
        "id": "MBefYYyPja0l"
      }
    },
    {
      "cell_type": "markdown",
      "source": [
        "## Keras Datasets"
      ],
      "metadata": {
        "id": "QjndXU9DPEhX"
      }
    },
    {
      "cell_type": "code",
      "execution_count": 2,
      "metadata": {
        "id": "Zi24t2MPe8V-"
      },
      "outputs": [],
      "source": [
        "from tensorflow.keras.datasets import mnist\n",
        "\n",
        "(train_x, train_y), (test_x, test_y) = mnist.load_data()"
      ]
    },
    {
      "cell_type": "markdown",
      "source": [
        "## Yan Lecun - MNist"
      ],
      "metadata": {
        "id": "8MCllzRQPJH3"
      }
    },
    {
      "cell_type": "markdown",
      "source": [
        "Foi utilizado um [repositório](https://github.com/hsjeong5/MNIST-for-Numpy/tree/master) que encapsula o download dos datasets a partir do site do Yann Lecun, como pode ser visto no arquivo [mnist.py](https://github.com/hsjeong5/MNIST-for-Numpy/blob/master/mnist.py#L6)."
      ],
      "metadata": {
        "id": "JSU5WyTIPYwn"
      }
    },
    {
      "cell_type": "code",
      "source": [
        "!git clone 'https://github.com/hsjeong5/MNIST-for-Numpy'"
      ],
      "metadata": {
        "colab": {
          "base_uri": "https://localhost:8080/"
        },
        "id": "pUhmpjpHAxRV",
        "outputId": "112e39f6-94b0-4eef-ef84-f762c548681b"
      },
      "execution_count": 3,
      "outputs": [
        {
          "output_type": "stream",
          "name": "stdout",
          "text": [
            "fatal: destination path 'MNIST-for-Numpy' already exists and is not an empty directory.\n"
          ]
        }
      ]
    },
    {
      "cell_type": "code",
      "source": [
        "import os \n",
        "os.chdir('./MNIST-for-Numpy/')"
      ],
      "metadata": {
        "id": "EP4iK7QQIqHu"
      },
      "execution_count": 4,
      "outputs": []
    },
    {
      "cell_type": "code",
      "source": [
        "!mv mnist.py mnist_custom.py"
      ],
      "metadata": {
        "id": "bC7ELIsNNnnG",
        "colab": {
          "base_uri": "https://localhost:8080/"
        },
        "outputId": "11a4ffac-b975-4d7a-e155-b1325ca630d2"
      },
      "execution_count": 5,
      "outputs": [
        {
          "output_type": "stream",
          "name": "stdout",
          "text": [
            "mv: cannot stat 'mnist.py': No such file or directory\n"
          ]
        }
      ]
    },
    {
      "cell_type": "code",
      "source": [
        "from mnist_custom import load, init\n",
        "\n",
        "init()\n",
        "custom_mnist_train_x, custom_mnist_train_y, custom_mnist_test_x, custom_mnist_test_y = load()"
      ],
      "metadata": {
        "colab": {
          "base_uri": "https://localhost:8080/"
        },
        "id": "6wKDofE1J632",
        "outputId": "ed2623c0-0a76-421c-e44d-8348d50757e2"
      },
      "execution_count": 6,
      "outputs": [
        {
          "output_type": "stream",
          "name": "stdout",
          "text": [
            "Downloading train-images-idx3-ubyte.gz...\n",
            "Downloading t10k-images-idx3-ubyte.gz...\n",
            "Downloading train-labels-idx1-ubyte.gz...\n",
            "Downloading t10k-labels-idx1-ubyte.gz...\n",
            "Download complete.\n",
            "Save complete.\n"
          ]
        }
      ]
    },
    {
      "cell_type": "markdown",
      "source": [
        "# Rede customizada"
      ],
      "metadata": {
        "id": "fjIJeBUSnbIt"
      }
    },
    {
      "cell_type": "markdown",
      "source": [
        "## Definição do modelo"
      ],
      "metadata": {
        "id": "iAct5Zuh-IBn"
      }
    },
    {
      "cell_type": "code",
      "source": [
        "from keras.utils.sidecar_evaluator import optimizer\n",
        "from prompt_toolkit.shortcuts.progress_bar.base import E\n",
        "from sklearn.base import BaseEstimator, ClassifierMixin\n",
        "from tensorflow import keras\n",
        "from tensorflow.keras import layers \n",
        "\n",
        "class NeuralNetwork(BaseEstimator, ClassifierMixin):\n",
        "  def __init__(self, epochs=5, batch_size=128):\n",
        "    self.epochs = epochs\n",
        "    self.batch_size = batch_size\n",
        "\n",
        "  def build_model(self, y_hot_encoded):\n",
        "    return keras.Sequential([\n",
        "        layers.Conv2D(4, 4, activation='relu'),\n",
        "        layers.Flatten(),\n",
        "        layers.Dense(512, activation=\"relu\"),\n",
        "        layers.Dense(y_hot_encoded.shape[1], activation=\"softmax\")\n",
        "    ])\n",
        "    \n",
        "  def fit(self, x, y):\n",
        "    self.labels, ids = numpy.unique(y, return_inverse=True)\n",
        "    y_hot_encoded = keras.utils.to_categorical(ids)\n",
        "    self.model = self.build_model(y_hot_encoded)\n",
        "    self.model.compile(optimizer=\"rmsprop\", loss=\"categorical_crossentropy\", metrics=[\"accuracy\"])\n",
        "    self.model.fit(x, y_hot_encoded, epochs=self.epochs, batch_size=self.batch_size)\n",
        "    return self \n",
        "  \n",
        "  def predict(self, x=None):\n",
        "    predictions = self.model.predict(x)\n",
        "    return self.labels[numpy.argmax(predictions, axis=1)]\n",
        "\n",
        "  def evaluate(self, x=None, y=None):\n",
        "    return self.model.evaluate(x, y)"
      ],
      "metadata": {
        "id": "mCpS5jZ6nd9k"
      },
      "execution_count": 7,
      "outputs": []
    },
    {
      "cell_type": "markdown",
      "source": [
        "## Utilitários para pipeline"
      ],
      "metadata": {
        "id": "5-Rl1Pgh8Ppf"
      }
    },
    {
      "cell_type": "code",
      "source": [
        "from sklearn.base import BaseEstimator, TransformerMixin\n",
        "\n",
        "class NormalizeImage(BaseEstimator, TransformerMixin):\n",
        "  def fit(self, X, y):\n",
        "    return self\n",
        "  \n",
        "  def transform(self, X, y=None):\n",
        "    \"\"\"Normaliza a imagem de entrada (RGB) para valores entre 0 e 1\"\"\"\n",
        "    return X.astype(\"float32\") / 255\n",
        "\n",
        "  def evaluate(self, x=None, y=None):\n",
        "    return self\n",
        "\n",
        "class ResizeMNist(BaseEstimator, TransformerMixin):\n",
        "  size = 28\n",
        "\n",
        "  def fit(self, X, y):\n",
        "    return self\n",
        "  \n",
        "  def transform(self, X, y=None):\n",
        "    return X.reshape((-1, self.size, self.size, 1))\n",
        "  \n",
        "  def evaluate(self, x=None, y=None):\n",
        "    return self"
      ],
      "metadata": {
        "id": "R3CCSHfY7dqe"
      },
      "execution_count": 8,
      "outputs": []
    },
    {
      "cell_type": "markdown",
      "source": [
        "# Treinamento"
      ],
      "metadata": {
        "id": "7ldaYyzD9Kfm"
      }
    },
    {
      "cell_type": "markdown",
      "source": [
        "## Dataset Tensorflow Keras"
      ],
      "metadata": {
        "id": "HRdz-ZQqQZ0i"
      }
    },
    {
      "cell_type": "code",
      "source": [
        "from sklearn.pipeline import Pipeline\n",
        "from sklearn.metrics import accuracy_score\n",
        "\n",
        "model_keras_ds = Pipeline([\n",
        "    (\"scaler\", NormalizeImage()), \n",
        "    (\"reshape\", ResizeMNist()), \n",
        "    (\"ann\", NeuralNetwork())\n",
        "])\n",
        "model_keras_ds.fit(train_x, train_y)"
      ],
      "metadata": {
        "colab": {
          "base_uri": "https://localhost:8080/",
          "height": 333
        },
        "id": "DDz4zYnZ8wSA",
        "outputId": "299ca3b1-e66a-455c-b11b-6b51707f1ca7"
      },
      "execution_count": 9,
      "outputs": [
        {
          "output_type": "stream",
          "name": "stdout",
          "text": [
            "Epoch 1/5\n",
            "469/469 [==============================] - 37s 75ms/step - loss: 0.2170 - accuracy: 0.9349\n",
            "Epoch 2/5\n",
            "469/469 [==============================] - 29s 62ms/step - loss: 0.0717 - accuracy: 0.9782\n",
            "Epoch 3/5\n",
            "469/469 [==============================] - 35s 75ms/step - loss: 0.0444 - accuracy: 0.9864\n",
            "Epoch 4/5\n",
            "469/469 [==============================] - 30s 64ms/step - loss: 0.0294 - accuracy: 0.9909\n",
            "Epoch 5/5\n",
            "469/469 [==============================] - 29s 62ms/step - loss: 0.0191 - accuracy: 0.9941\n"
          ]
        },
        {
          "output_type": "execute_result",
          "data": {
            "text/plain": [
              "Pipeline(steps=[('scaler', NormalizeImage()), ('reshape', ResizeMNist()),\n",
              "                ('ann', NeuralNetwork())])"
            ],
            "text/html": [
              "<style>#sk-container-id-1 {color: black;background-color: white;}#sk-container-id-1 pre{padding: 0;}#sk-container-id-1 div.sk-toggleable {background-color: white;}#sk-container-id-1 label.sk-toggleable__label {cursor: pointer;display: block;width: 100%;margin-bottom: 0;padding: 0.3em;box-sizing: border-box;text-align: center;}#sk-container-id-1 label.sk-toggleable__label-arrow:before {content: \"▸\";float: left;margin-right: 0.25em;color: #696969;}#sk-container-id-1 label.sk-toggleable__label-arrow:hover:before {color: black;}#sk-container-id-1 div.sk-estimator:hover label.sk-toggleable__label-arrow:before {color: black;}#sk-container-id-1 div.sk-toggleable__content {max-height: 0;max-width: 0;overflow: hidden;text-align: left;background-color: #f0f8ff;}#sk-container-id-1 div.sk-toggleable__content pre {margin: 0.2em;color: black;border-radius: 0.25em;background-color: #f0f8ff;}#sk-container-id-1 input.sk-toggleable__control:checked~div.sk-toggleable__content {max-height: 200px;max-width: 100%;overflow: auto;}#sk-container-id-1 input.sk-toggleable__control:checked~label.sk-toggleable__label-arrow:before {content: \"▾\";}#sk-container-id-1 div.sk-estimator input.sk-toggleable__control:checked~label.sk-toggleable__label {background-color: #d4ebff;}#sk-container-id-1 div.sk-label input.sk-toggleable__control:checked~label.sk-toggleable__label {background-color: #d4ebff;}#sk-container-id-1 input.sk-hidden--visually {border: 0;clip: rect(1px 1px 1px 1px);clip: rect(1px, 1px, 1px, 1px);height: 1px;margin: -1px;overflow: hidden;padding: 0;position: absolute;width: 1px;}#sk-container-id-1 div.sk-estimator {font-family: monospace;background-color: #f0f8ff;border: 1px dotted black;border-radius: 0.25em;box-sizing: border-box;margin-bottom: 0.5em;}#sk-container-id-1 div.sk-estimator:hover {background-color: #d4ebff;}#sk-container-id-1 div.sk-parallel-item::after {content: \"\";width: 100%;border-bottom: 1px solid gray;flex-grow: 1;}#sk-container-id-1 div.sk-label:hover label.sk-toggleable__label {background-color: #d4ebff;}#sk-container-id-1 div.sk-serial::before {content: \"\";position: absolute;border-left: 1px solid gray;box-sizing: border-box;top: 0;bottom: 0;left: 50%;z-index: 0;}#sk-container-id-1 div.sk-serial {display: flex;flex-direction: column;align-items: center;background-color: white;padding-right: 0.2em;padding-left: 0.2em;position: relative;}#sk-container-id-1 div.sk-item {position: relative;z-index: 1;}#sk-container-id-1 div.sk-parallel {display: flex;align-items: stretch;justify-content: center;background-color: white;position: relative;}#sk-container-id-1 div.sk-item::before, #sk-container-id-1 div.sk-parallel-item::before {content: \"\";position: absolute;border-left: 1px solid gray;box-sizing: border-box;top: 0;bottom: 0;left: 50%;z-index: -1;}#sk-container-id-1 div.sk-parallel-item {display: flex;flex-direction: column;z-index: 1;position: relative;background-color: white;}#sk-container-id-1 div.sk-parallel-item:first-child::after {align-self: flex-end;width: 50%;}#sk-container-id-1 div.sk-parallel-item:last-child::after {align-self: flex-start;width: 50%;}#sk-container-id-1 div.sk-parallel-item:only-child::after {width: 0;}#sk-container-id-1 div.sk-dashed-wrapped {border: 1px dashed gray;margin: 0 0.4em 0.5em 0.4em;box-sizing: border-box;padding-bottom: 0.4em;background-color: white;}#sk-container-id-1 div.sk-label label {font-family: monospace;font-weight: bold;display: inline-block;line-height: 1.2em;}#sk-container-id-1 div.sk-label-container {text-align: center;}#sk-container-id-1 div.sk-container {/* jupyter's `normalize.less` sets `[hidden] { display: none; }` but bootstrap.min.css set `[hidden] { display: none !important; }` so we also need the `!important` here to be able to override the default hidden behavior on the sphinx rendered scikit-learn.org. See: https://github.com/scikit-learn/scikit-learn/issues/21755 */display: inline-block !important;position: relative;}#sk-container-id-1 div.sk-text-repr-fallback {display: none;}</style><div id=\"sk-container-id-1\" class=\"sk-top-container\"><div class=\"sk-text-repr-fallback\"><pre>Pipeline(steps=[(&#x27;scaler&#x27;, NormalizeImage()), (&#x27;reshape&#x27;, ResizeMNist()),\n",
              "                (&#x27;ann&#x27;, NeuralNetwork())])</pre><b>In a Jupyter environment, please rerun this cell to show the HTML representation or trust the notebook. <br />On GitHub, the HTML representation is unable to render, please try loading this page with nbviewer.org.</b></div><div class=\"sk-container\" hidden><div class=\"sk-item sk-dashed-wrapped\"><div class=\"sk-label-container\"><div class=\"sk-label sk-toggleable\"><input class=\"sk-toggleable__control sk-hidden--visually\" id=\"sk-estimator-id-1\" type=\"checkbox\" ><label for=\"sk-estimator-id-1\" class=\"sk-toggleable__label sk-toggleable__label-arrow\">Pipeline</label><div class=\"sk-toggleable__content\"><pre>Pipeline(steps=[(&#x27;scaler&#x27;, NormalizeImage()), (&#x27;reshape&#x27;, ResizeMNist()),\n",
              "                (&#x27;ann&#x27;, NeuralNetwork())])</pre></div></div></div><div class=\"sk-serial\"><div class=\"sk-item\"><div class=\"sk-estimator sk-toggleable\"><input class=\"sk-toggleable__control sk-hidden--visually\" id=\"sk-estimator-id-2\" type=\"checkbox\" ><label for=\"sk-estimator-id-2\" class=\"sk-toggleable__label sk-toggleable__label-arrow\">NormalizeImage</label><div class=\"sk-toggleable__content\"><pre>NormalizeImage()</pre></div></div></div><div class=\"sk-item\"><div class=\"sk-estimator sk-toggleable\"><input class=\"sk-toggleable__control sk-hidden--visually\" id=\"sk-estimator-id-3\" type=\"checkbox\" ><label for=\"sk-estimator-id-3\" class=\"sk-toggleable__label sk-toggleable__label-arrow\">ResizeMNist</label><div class=\"sk-toggleable__content\"><pre>ResizeMNist()</pre></div></div></div><div class=\"sk-item\"><div class=\"sk-estimator sk-toggleable\"><input class=\"sk-toggleable__control sk-hidden--visually\" id=\"sk-estimator-id-4\" type=\"checkbox\" ><label for=\"sk-estimator-id-4\" class=\"sk-toggleable__label sk-toggleable__label-arrow\">NeuralNetwork</label><div class=\"sk-toggleable__content\"><pre>NeuralNetwork()</pre></div></div></div></div></div></div></div>"
            ]
          },
          "metadata": {},
          "execution_count": 9
        }
      ]
    },
    {
      "cell_type": "markdown",
      "source": [
        "## Dataset Yann Lecun"
      ],
      "metadata": {
        "id": "BVydveb1QfUe"
      }
    },
    {
      "cell_type": "code",
      "source": [
        "model_lecun_ds = Pipeline([\n",
        "    (\"scaler\", NormalizeImage()), \n",
        "    (\"reshape\", ResizeMNist()), \n",
        "    (\"ann\", NeuralNetwork())\n",
        "])\n",
        "model_lecun_ds.fit(custom_mnist_train_x, custom_mnist_train_y)"
      ],
      "metadata": {
        "colab": {
          "base_uri": "https://localhost:8080/",
          "height": 333
        },
        "id": "uvGtla86QkSG",
        "outputId": "02477e2c-b41b-4035-c0b8-dae91b9f510e"
      },
      "execution_count": 10,
      "outputs": [
        {
          "output_type": "stream",
          "name": "stdout",
          "text": [
            "Epoch 1/5\n",
            "469/469 [==============================] - 31s 64ms/step - loss: 0.2127 - accuracy: 0.9352\n",
            "Epoch 2/5\n",
            "469/469 [==============================] - 31s 67ms/step - loss: 0.0694 - accuracy: 0.9787\n",
            "Epoch 3/5\n",
            "469/469 [==============================] - 29s 63ms/step - loss: 0.0416 - accuracy: 0.9866\n",
            "Epoch 4/5\n",
            "469/469 [==============================] - 29s 62ms/step - loss: 0.0270 - accuracy: 0.9918\n",
            "Epoch 5/5\n",
            "469/469 [==============================] - 29s 62ms/step - loss: 0.0177 - accuracy: 0.9944\n"
          ]
        },
        {
          "output_type": "execute_result",
          "data": {
            "text/plain": [
              "Pipeline(steps=[('scaler', NormalizeImage()), ('reshape', ResizeMNist()),\n",
              "                ('ann', NeuralNetwork())])"
            ],
            "text/html": [
              "<style>#sk-container-id-2 {color: black;background-color: white;}#sk-container-id-2 pre{padding: 0;}#sk-container-id-2 div.sk-toggleable {background-color: white;}#sk-container-id-2 label.sk-toggleable__label {cursor: pointer;display: block;width: 100%;margin-bottom: 0;padding: 0.3em;box-sizing: border-box;text-align: center;}#sk-container-id-2 label.sk-toggleable__label-arrow:before {content: \"▸\";float: left;margin-right: 0.25em;color: #696969;}#sk-container-id-2 label.sk-toggleable__label-arrow:hover:before {color: black;}#sk-container-id-2 div.sk-estimator:hover label.sk-toggleable__label-arrow:before {color: black;}#sk-container-id-2 div.sk-toggleable__content {max-height: 0;max-width: 0;overflow: hidden;text-align: left;background-color: #f0f8ff;}#sk-container-id-2 div.sk-toggleable__content pre {margin: 0.2em;color: black;border-radius: 0.25em;background-color: #f0f8ff;}#sk-container-id-2 input.sk-toggleable__control:checked~div.sk-toggleable__content {max-height: 200px;max-width: 100%;overflow: auto;}#sk-container-id-2 input.sk-toggleable__control:checked~label.sk-toggleable__label-arrow:before {content: \"▾\";}#sk-container-id-2 div.sk-estimator input.sk-toggleable__control:checked~label.sk-toggleable__label {background-color: #d4ebff;}#sk-container-id-2 div.sk-label input.sk-toggleable__control:checked~label.sk-toggleable__label {background-color: #d4ebff;}#sk-container-id-2 input.sk-hidden--visually {border: 0;clip: rect(1px 1px 1px 1px);clip: rect(1px, 1px, 1px, 1px);height: 1px;margin: -1px;overflow: hidden;padding: 0;position: absolute;width: 1px;}#sk-container-id-2 div.sk-estimator {font-family: monospace;background-color: #f0f8ff;border: 1px dotted black;border-radius: 0.25em;box-sizing: border-box;margin-bottom: 0.5em;}#sk-container-id-2 div.sk-estimator:hover {background-color: #d4ebff;}#sk-container-id-2 div.sk-parallel-item::after {content: \"\";width: 100%;border-bottom: 1px solid gray;flex-grow: 1;}#sk-container-id-2 div.sk-label:hover label.sk-toggleable__label {background-color: #d4ebff;}#sk-container-id-2 div.sk-serial::before {content: \"\";position: absolute;border-left: 1px solid gray;box-sizing: border-box;top: 0;bottom: 0;left: 50%;z-index: 0;}#sk-container-id-2 div.sk-serial {display: flex;flex-direction: column;align-items: center;background-color: white;padding-right: 0.2em;padding-left: 0.2em;position: relative;}#sk-container-id-2 div.sk-item {position: relative;z-index: 1;}#sk-container-id-2 div.sk-parallel {display: flex;align-items: stretch;justify-content: center;background-color: white;position: relative;}#sk-container-id-2 div.sk-item::before, #sk-container-id-2 div.sk-parallel-item::before {content: \"\";position: absolute;border-left: 1px solid gray;box-sizing: border-box;top: 0;bottom: 0;left: 50%;z-index: -1;}#sk-container-id-2 div.sk-parallel-item {display: flex;flex-direction: column;z-index: 1;position: relative;background-color: white;}#sk-container-id-2 div.sk-parallel-item:first-child::after {align-self: flex-end;width: 50%;}#sk-container-id-2 div.sk-parallel-item:last-child::after {align-self: flex-start;width: 50%;}#sk-container-id-2 div.sk-parallel-item:only-child::after {width: 0;}#sk-container-id-2 div.sk-dashed-wrapped {border: 1px dashed gray;margin: 0 0.4em 0.5em 0.4em;box-sizing: border-box;padding-bottom: 0.4em;background-color: white;}#sk-container-id-2 div.sk-label label {font-family: monospace;font-weight: bold;display: inline-block;line-height: 1.2em;}#sk-container-id-2 div.sk-label-container {text-align: center;}#sk-container-id-2 div.sk-container {/* jupyter's `normalize.less` sets `[hidden] { display: none; }` but bootstrap.min.css set `[hidden] { display: none !important; }` so we also need the `!important` here to be able to override the default hidden behavior on the sphinx rendered scikit-learn.org. See: https://github.com/scikit-learn/scikit-learn/issues/21755 */display: inline-block !important;position: relative;}#sk-container-id-2 div.sk-text-repr-fallback {display: none;}</style><div id=\"sk-container-id-2\" class=\"sk-top-container\"><div class=\"sk-text-repr-fallback\"><pre>Pipeline(steps=[(&#x27;scaler&#x27;, NormalizeImage()), (&#x27;reshape&#x27;, ResizeMNist()),\n",
              "                (&#x27;ann&#x27;, NeuralNetwork())])</pre><b>In a Jupyter environment, please rerun this cell to show the HTML representation or trust the notebook. <br />On GitHub, the HTML representation is unable to render, please try loading this page with nbviewer.org.</b></div><div class=\"sk-container\" hidden><div class=\"sk-item sk-dashed-wrapped\"><div class=\"sk-label-container\"><div class=\"sk-label sk-toggleable\"><input class=\"sk-toggleable__control sk-hidden--visually\" id=\"sk-estimator-id-5\" type=\"checkbox\" ><label for=\"sk-estimator-id-5\" class=\"sk-toggleable__label sk-toggleable__label-arrow\">Pipeline</label><div class=\"sk-toggleable__content\"><pre>Pipeline(steps=[(&#x27;scaler&#x27;, NormalizeImage()), (&#x27;reshape&#x27;, ResizeMNist()),\n",
              "                (&#x27;ann&#x27;, NeuralNetwork())])</pre></div></div></div><div class=\"sk-serial\"><div class=\"sk-item\"><div class=\"sk-estimator sk-toggleable\"><input class=\"sk-toggleable__control sk-hidden--visually\" id=\"sk-estimator-id-6\" type=\"checkbox\" ><label for=\"sk-estimator-id-6\" class=\"sk-toggleable__label sk-toggleable__label-arrow\">NormalizeImage</label><div class=\"sk-toggleable__content\"><pre>NormalizeImage()</pre></div></div></div><div class=\"sk-item\"><div class=\"sk-estimator sk-toggleable\"><input class=\"sk-toggleable__control sk-hidden--visually\" id=\"sk-estimator-id-7\" type=\"checkbox\" ><label for=\"sk-estimator-id-7\" class=\"sk-toggleable__label sk-toggleable__label-arrow\">ResizeMNist</label><div class=\"sk-toggleable__content\"><pre>ResizeMNist()</pre></div></div></div><div class=\"sk-item\"><div class=\"sk-estimator sk-toggleable\"><input class=\"sk-toggleable__control sk-hidden--visually\" id=\"sk-estimator-id-8\" type=\"checkbox\" ><label for=\"sk-estimator-id-8\" class=\"sk-toggleable__label sk-toggleable__label-arrow\">NeuralNetwork</label><div class=\"sk-toggleable__content\"><pre>NeuralNetwork()</pre></div></div></div></div></div></div></div>"
            ]
          },
          "metadata": {},
          "execution_count": 10
        }
      ]
    },
    {
      "cell_type": "markdown",
      "source": [
        "# Comparação"
      ],
      "metadata": {
        "id": "PcJQfVE7p1Jm"
      }
    },
    {
      "cell_type": "markdown",
      "source": [
        "## Dataset Yann Lecun"
      ],
      "metadata": {
        "id": "tiajA__QS-aQ"
      }
    },
    {
      "cell_type": "code",
      "source": [
        "predictions = model_lecun_ds.predict(custom_mnist_test_x)\n",
        "accuracy_score(custom_mnist_test_y, predictions)"
      ],
      "metadata": {
        "colab": {
          "base_uri": "https://localhost:8080/"
        },
        "id": "-u27L7xVO7jO",
        "outputId": "4faabd67-f280-43ce-d4a3-5869efc1e111"
      },
      "execution_count": 11,
      "outputs": [
        {
          "output_type": "stream",
          "name": "stdout",
          "text": [
            "313/313 [==============================] - 2s 7ms/step\n"
          ]
        },
        {
          "output_type": "execute_result",
          "data": {
            "text/plain": [
              "0.9863"
            ]
          },
          "metadata": {},
          "execution_count": 11
        }
      ]
    },
    {
      "cell_type": "markdown",
      "source": [
        "## Dataset Tensorflow Keras"
      ],
      "metadata": {
        "id": "K5zRrvwzTD9G"
      }
    },
    {
      "cell_type": "code",
      "source": [
        "predictions = model_keras_ds.predict(test_x)\n",
        "accuracy_score(test_y, predictions)"
      ],
      "metadata": {
        "colab": {
          "base_uri": "https://localhost:8080/"
        },
        "id": "Fjv6GEnPpga9",
        "outputId": "0fa92735-f60c-47f6-93bb-0479a7e1e189"
      },
      "execution_count": 12,
      "outputs": [
        {
          "output_type": "stream",
          "name": "stdout",
          "text": [
            "313/313 [==============================] - 2s 7ms/step\n"
          ]
        },
        {
          "output_type": "execute_result",
          "data": {
            "text/plain": [
              "0.9828"
            ]
          },
          "metadata": {},
          "execution_count": 12
        }
      ]
    }
  ]
}